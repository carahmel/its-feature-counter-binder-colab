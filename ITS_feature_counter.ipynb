{
  "nbformat": 4,
  "nbformat_minor": 0,
  "metadata": {
    "colab": {
      "provenance": [],
      "authorship_tag": "ABX9TyNkrT5RYu2OPNdgBww2G8CZ",
      "include_colab_link": true
    },
    "kernelspec": {
      "name": "python3",
      "display_name": "Python 3"
    },
    "language_info": {
      "name": "python"
    }
  },
  "cells": [
    {
      "cell_type": "markdown",
      "metadata": {
        "id": "view-in-github",
        "colab_type": "text"
      },
      "source": [
        "<a href=\"https://colab.research.google.com/github/carahmel/its-feature-counter-binder-colab/blob/main/ITS_feature_counter.ipynb\" target=\"_parent\"><img src=\"https://colab.research.google.com/assets/colab-badge.svg\" alt=\"Open In Colab\"/></a>"
      ]
    },
    {
      "cell_type": "markdown",
      "source": [
        "*If prompted, select _ipykernel_ as kernel.*\n",
        "\n",
        "### **To initialise `source_json` variable and execute script to count charging stations :**\n",
        "\n",
        "\n",
        "1.   Download source file (from *https://data.geo.admin.ch/ch.bfe.ladestellen-elektromobilitaet/data/ch.bfe.ladestellen-elektromobilitaet_fr.json* or an alternate source) to your computer.\n",
        "2.   Select the next cell and run it by clicking on the *play* button (or with the *Ctrl+Enter* keys) :"
      ],
      "metadata": {
        "id": "pVqE0SRqRN5j"
      }
    },
    {
      "cell_type": "code",
      "source": [
        "## Select and run this cell ##\n",
        "\n",
        "from google.colab import files\n",
        "uploaded = files.upload()"
      ],
      "metadata": {
        "id": "j6f-pDLh_u-d",
        "collapsed": true
      },
      "execution_count": null,
      "outputs": []
    },
    {
      "cell_type": "markdown",
      "source": [
        "\n",
        "\n",
        "3.   Click on *Browse..* and upload the source file that you have downloaded in Step 1. This can take a few minutes to complete.\n",
        "4.   Execute the main script below by clicking on the *play* button (or with the *Ctrl+Enter* keys) :\n",
        "\n",
        "\n",
        "*You can re-run the cell to get the latest results without re-uploading a source file (Steps 1-3) as long as the current Colab session remains open.*\n",
        "\n",
        "\n",
        "\n",
        "\n"
      ],
      "metadata": {
        "id": "vc4eiticUUma"
      }
    },
    {
      "cell_type": "markdown",
      "source": [
        "\n",
        "---\n",
        "\n",
        "### **Do not edit the main script below !**\n",
        "\n",
        "---\n"
      ],
      "metadata": {
        "id": "JLUbEC4mFGKC"
      }
    },
    {
      "cell_type": "code",
      "execution_count": null,
      "metadata": {
        "id": "-bL5Z19VcLXS",
        "cellView": "form"
      },
      "outputs": [],
      "source": [
        "# @title\n",
        "### !! Do not edit this cell !! ###\n",
        "\n",
        "# import libraries\n",
        "import pandas as pd\n",
        "import geopandas as gpd\n",
        "import numpy as np\n",
        "import folium\n",
        "import branca\n",
        "import datetime\n",
        "\n",
        "# time stamp\n",
        "time = datetime.datetime.now()\n",
        "now = time.strftime(\"%Y-%m-%d %A %H:%M:%S\")\n",
        "\n",
        "# load data\n",
        "lausanne = gpd.read_file(\"https://raw.githubusercontent.com/carahmel/its-feature-counter-binder/refs/heads/main/resources/limites_lausanne_2056.geojson\")\n",
        "\n",
        "for filename in uploaded.keys():\n",
        "  source_json = filename\n",
        "stations = gpd.read_file(f\"/content/{source_json}\").to_crs(lausanne.crs) # ensure that both datasets share the same CRS\n",
        "\n",
        "# spatial join to identify charging stations within lausanne\n",
        "stationsLS = gpd.sjoin(stations, lausanne, how='inner')\n",
        "\n",
        "# count number of charging points per status, per station\n",
        "points_available = pd.Series(stationsLS['description'].str.count(\"<table class=\\\"evse-overview status-available\\\">\"), name = \"available\")\n",
        "points_occupied = pd.Series(stationsLS['description'].str.count(\"<table class=\\\"evse-overview status-occupied\\\">\"), name = \"occupied\")\n",
        "points_reserved = pd.Series(stationsLS['description'].str.count(\"<table class=\\\"evse-overview status-reserved\\\">\"), name = \"reserved\")\n",
        "points_outofservice = pd.Series(stationsLS['description'].str.count(\"<table class=\\\"evse-overview status-outofservice\\\">\"), name = \"outofservice\")\n",
        "points_unknown = pd.Series(stationsLS['description'].str.count(\"<table class=\\\"evse-overview status-unknown\\\">\"), name = \"unknown\")\n",
        "pointsLS = pd.concat([points_available, points_occupied, points_reserved, points_outofservice, points_unknown], axis=1)\n",
        "\n",
        "# create resulting dataframe\n",
        "results = pd.merge(stationsLS, pointsLS, left_index=True, right_index=True)\n",
        "\n",
        "# initialise map\n",
        "fig = branca.element.Figure(height=600)\n",
        "m = folium.Map([46.519630, 6.632130], tiles=\"cartodbpositron\", zoom_start=12)\n",
        "fig.add_child(m)\n",
        "\n",
        "# create groups for layer control\n",
        "available = folium.FeatureGroup(name=\"Available\", show=True).add_to(m)\n",
        "unavailable = folium.FeatureGroup(name=\"Unavailable/Unknown\", show=True).add_to(m)  # reserved, occupied, out of service, unknown\n",
        "\n",
        "# define function for marker colours\n",
        "def colours(feature):\n",
        "    if feature['properties'][\"Availability\"] == \"Available\":\n",
        "        return \"green\"\n",
        "    if feature['properties'][\"Availability\"] == \"Reserved\":\n",
        "        return \"orange\"\n",
        "    if feature['properties'][\"Availability\"] == \"Occupied\":\n",
        "        return \"red\"\n",
        "    if feature['properties'][\"Availability\"] == \"OutOfService\":\n",
        "        return \"black\"\n",
        "    if feature['properties'][\"Availability\"] == \"Unknown\":\n",
        "        return \"gray\"\n",
        "    else:\n",
        "        return \"gray\"\n",
        "\n",
        "# add objects to map\n",
        "folium.GeoJson(results[results['Availability'] == \"Available\"],\n",
        "               name = \"stations de recharge\",\n",
        "               marker=folium.Marker(icon=folium.Icon(icon='glyphicon-flash')),\n",
        "               tooltip=folium.GeoJsonTooltip(fields=[\"available\", \"occupied\", \"reserved\", \"outofservice\", \"unknown\"], aliases=[\"Available:\", \"Occupied:\", \"Reserved:\", \"Out of Service:\", \"Unknown:\"]),\n",
        "               style_function=lambda feature: {\n",
        "                   'markerColor': colours(feature)}).add_to(available)\n",
        "folium.GeoJson(results[results['Availability'] != \"Available\"],\n",
        "               name = \"stations de recharge\",\n",
        "               marker=folium.Marker(icon=folium.Icon(icon='glyphicon-flash')),\n",
        "               tooltip=folium.GeoJsonTooltip(fields=[\"available\", \"occupied\", \"reserved\", \"outofservice\", \"unknown\"], aliases=[\"Available:\", \"Occupied:\", \"Reserved:\", \"Out of Service:\", \"Unknown:\"]),\n",
        "               style_function=lambda feature: {\n",
        "                   'markerColor': colours(feature)}).add_to(unavailable)\n",
        "folium.GeoJson(lausanne,\n",
        "               name = \"Ville de Lausanne\",\n",
        "               style_function=lambda feature: {\n",
        "                   \"fillColor\": \"darkgray\",\n",
        "                   \"fillOpacity\": 0.5,\n",
        "                   \"color\": \"darkgray\",\n",
        "                   \"weight\": 2},\n",
        "               show = True).add_to(m)\n",
        "folium.TileLayer(\"OpenStreetMap\", show = False).add_to(m)\n",
        "folium.LayerControl().add_to(m)\n",
        "\n",
        "# print results and map to cell\n",
        "def print_results(map):\n",
        "  print(\"STATUS OF CHARGING POINTS:\")\n",
        "  print(\"# Available:\", np.sum(results['available']))\n",
        "  print(\"# Reserved:\", np.sum(results['reserved']))\n",
        "  print(\"# Occupied:\", np.sum(results['occupied']))\n",
        "  print(\"# Out of service:\", np.sum(results['outofservice']))\n",
        "  print(\"# Unknown:\", np.sum(results['unknown']))\n",
        "  print(f\"\\nTOTAL: {np.sum([results['available'], results['reserved'], results['occupied'], results['outofservice'], results['unknown']])} charging points across {len(results)} stations\")\n",
        "  print(f\"({now} UTC)\")\n",
        "  return map\n",
        "\n",
        "print_results(m)"
      ]
    }
  ]
}